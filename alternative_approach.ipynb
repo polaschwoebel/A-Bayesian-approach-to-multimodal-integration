{
 "cells": [
  {
   "cell_type": "code",
   "execution_count": 14,
   "metadata": {
    "collapsed": false
   },
   "outputs": [],
   "source": [
    "%matplotlib inline\n",
    "import pickle\n",
    "import os"
   ]
  },
  {
   "cell_type": "markdown",
   "metadata": {},
   "source": [
    "---\n",
    "title: Maximum Likelihood Estimation of Custom Models in Python with StatsModels\n",
    "tags: Statistics, Python\n",
    "---"
   ]
  },
  {
   "cell_type": "markdown",
   "metadata": {},
   "source": [
    "Maximum likelihood estimation is a common method for fitting statistical models.  In Python, it is quite possible to fit maximum likelihood models using just [`scipy.optimize`](http://docs.scipy.org/doc/scipy/reference/optimize.html). Over time, however, I have come to prefer the convenience provided by [`statsmodels`'](http://statsmodels.sourceforge.net/) [`GenericLikelihoodModel`](http://statsmodels.sourceforge.net/devel/dev/generated/statsmodels.base.model.GenericLikelihoodModel.html).  In this post, I will show how easy it is to subclass `GenericLikelihoodModel` and take advantage of much of `statsmodels`' well-developed machinery for maximum likelihood estimation of custom models."
   ]
  },
  {
   "cell_type": "markdown",
   "metadata": {},
   "source": [
    "#### Zero-inflated Poisson models"
   ]
  },
  {
   "cell_type": "markdown",
   "metadata": {},
   "source": [
    "The model we use for this demonstration is a [zero-inflated Poisson model](http://en.wikipedia.org/wiki/Zero-inflated_model#Zero-inflated_Poisson).  This is a model for count data that generalizes the Poisson model by allowing for an overabundance of zero observations.\n",
    "\n",
    "The model has two parameters, $\\pi$, the proportion of excess zero observations, and $\\lambda$, the mean of the Poisson distribution.  We assume that observations from this model are generated as follows.  First, a weighted coin with probability $\\pi$ of landing on heads is flipped.  If the result is heads, the observation is zero.  If the result is tails, the observation is generated from a Poisson distribution with mean $\\lambda$.  Note that there are two ways for an observation to be zero under this model:\n",
    "\n",
    "1. the coin is heads, and\n",
    "2. the coin is tails, and the sample from the Poisson distribution is zero.\n",
    "\n",
    "If $X$ has a zero-inflated Poisson distribution with parameters $\\pi$ and $\\lambda$, its probability mass function is given by\n",
    "\n",
    "$$\\begin{align*}\n",
    "P(X = 0)\n",
    "    & = \\pi + (1 - \\pi)\\ e^{-\\lambda} \\\\\n",
    "P(X = x)\n",
    "    & = (1 - \\pi)\\ e^{-\\lambda}\\ \\frac{\\lambda^x}{x!} \\textrm{ for } x > 0.\n",
    "\\end{align*}$$\n",
    "\n",
    "In this post, we will use the parameter values $\\pi = 0.3$ and $\\lambda = 2$.  The probability mass function of the zero-inflated Poisson distribution is shown below, next to a normal Poisson distribution, for comparison."
   ]
  },
  {
   "cell_type": "code",
   "execution_count": 2,
   "metadata": {
    "collapsed": true
   },
   "outputs": [],
   "source": [
    "from __future__ import division\n",
    "\n",
    "from matplotlib import  pyplot as plt\n",
    "import numpy as np\n",
    "from scipy import stats\n",
    "import seaborn as sns\n",
    "from statsmodels.base.model import GenericLikelihoodModel"
   ]
  },
  {
   "cell_type": "code",
   "execution_count": 4,
   "metadata": {
    "collapsed": false
   },
   "outputs": [],
   "source": [
    "#pmf = probabilty mass function (?)\n",
    "#def zip_pmf(x, pi=pi, lambda_=lambda_):\n",
    "#    if pi < 0 or pi > 1 or lambda_ <= 0:\n",
    "#        return np.zeros_like(x)\n",
    "#    else:\n",
    "#        return (x == 0) * pi + (1 - pi) * stats.poisson.pmf(x, lambda_)\n",
    "    \n",
    "\n",
    "\n",
    "def round1_likelihood(degrees, answers, mu, sigma2):\n",
    "# likelihood(R|mu, sigma) = \n",
    "    likelihood = 1\n",
    "    # model the product\n",
    "    for t in range(len(degrees)):\n",
    "        # do we want the loc=0 here?\n",
    "        likelihood = likelihood * stats.bernoulli.pmf(answers[t], phi(degrees[t], mu, sigma2))\n",
    "    #print('The likelihood of these values is', likelihood)\n",
    "    return likelihood"
   ]
  },
  {
   "cell_type": "markdown",
   "metadata": {},
   "source": [
    "#### Maximum likelihood estimation"
   ]
  },
  {
   "cell_type": "markdown",
   "metadata": {},
   "source": [
    "First we generate 1,000 observations from the zero-inflated model."
   ]
  },
  {
   "cell_type": "markdown",
   "metadata": {},
   "source": [
    "We are now ready to estimate $\\pi$ and $\\lambda$ by maximum likelihood.  To do so, we define a class that inherits from `statsmodels`' `GenericLikelihoodModel` as follows."
   ]
  },
  {
   "cell_type": "code",
   "execution_count": 30,
   "metadata": {
    "collapsed": true
   },
   "outputs": [],
   "source": [
    "from scipy import stats, optimize\n",
    "from math import erf, sqrt, exp\n",
    "import math"
   ]
  },
  {
   "cell_type": "code",
   "execution_count": 31,
   "metadata": {
    "collapsed": true
   },
   "outputs": [],
   "source": [
    "def phi(x, mu, sigma2):\n",
    "    # rewrote it to take sigma2 and then take the square root - not sure this is numerically smart... try without\n",
    "    sigma = math.sqrt(sigma2)\n",
    "    distribution = stats.norm(loc = mu, scale = sigma)\n",
    "    return distribution.cdf(x)"
   ]
  },
  {
   "cell_type": "code",
   "execution_count": 47,
   "metadata": {
    "collapsed": false
   },
   "outputs": [],
   "source": [
    "class BernoulliCumNorm(GenericLikelihoodModel):\n",
    "    def __init__(self, endog, exog=None, **kwds):\n",
    "        if exog is None:\n",
    "            exog = np.zeros_like(endog)\n",
    "            \n",
    "        super(BernoulliCumNorm, self).__init__(endog, exog, **kwds)\n",
    "    \n",
    "    def nloglikeobs(self, params):\n",
    "        mu = params[0]\n",
    "        sigma2 = params[1]\n",
    "\n",
    "        return -np.log(round1_likelihood(self.endog, self.exog, mu=mu, sigma2=sigma2))\n",
    "    \n",
    "    def fit(self, start_params=None, maxiter=1000, maxfun=5000, **kwds):\n",
    "        if start_params is None:\n",
    "            # maybe witch endog & exog like done here but probably not (?) \n",
    "            #lambda_start = self.endog.mean()\n",
    "            mu_start = self.exog.mean()\n",
    "            sigma2_start = 2\n",
    "            \n",
    "            start_params = np.array([mu_start, sigma2_start])\n",
    "            \n",
    "        return super(BernoulliCumNorm, self).fit(start_params=start_params,\n",
    "                                                    maxiter=maxiter, maxfun=maxfun, **kwds)"
   ]
  },
  {
   "cell_type": "code",
   "execution_count": 48,
   "metadata": {
    "collapsed": false
   },
   "outputs": [
    {
     "name": "stdout",
     "output_type": "stream",
     "text": [
      "participant1.p\n",
      "[[-2.25  4.5   2.25 -6.75  6.75 -4.5   2.25  6.75 -2.25 -6.75  4.5  -4.5\n",
      "   6.75  2.25  4.5  -2.25 -4.5  -6.75 -4.5   4.5   6.75 -2.25  2.25 -6.75\n",
      "  -6.75 -2.25 -4.5   4.5   2.25  6.75 -6.75  4.5   2.25  6.75 -2.25 -4.5\n",
      "   4.5  -6.75 -4.5   6.75  2.25 -2.25  4.5  -6.75 -2.25 -4.5   2.25  6.75\n",
      "   4.5  -6.75 -2.25 -4.5   2.25  6.75  4.5   6.75 -2.25  2.25 -4.5  -6.75]\n",
      " [ 0.    1.    0.    0.    1.    0.    1.    1.    0.    0.    1.    0.    1.\n",
      "   0.    1.    1.    0.    0.    0.    1.    1.    0.    1.    0.    0.    0.\n",
      "   0.    1.    1.    1.    0.    1.    1.    1.    0.    0.    1.    0.    0.\n",
      "   1.    1.    0.    1.    0.    0.    0.    1.    1.    1.    0.    0.    0.\n",
      "   1.    1.    1.    1.    0.    1.    0.    0.  ]]\n",
      "participant10.p\n",
      "[[ 0.   -6.75 -2.25  4.5   2.25 -4.5   6.75 -6.75  2.25  0.   -4.5   6.75\n",
      "   4.5  -2.25  0.   -6.75 -2.25  2.25  6.75 -4.5   4.5  -4.5   2.25  6.75\n",
      "   4.5   0.   -6.75 -2.25 -6.75  2.25  6.75 -4.5   0.    4.5  -2.25 -4.5\n",
      "   0.    6.75 -6.75  2.25 -2.25  4.5   2.25  4.5  -6.75  0.   -2.25 -4.5\n",
      "   6.75 -2.25  6.75  0.   -4.5   4.5   2.25 -6.75 -2.25  4.5   6.75 -6.75\n",
      "   2.25 -4.5   0.    2.25  6.75  0.   -2.25  4.5  -4.5  -6.75]\n",
      " [ 0.    0.    0.    1.    1.    0.    1.    0.    1.    0.    0.    1.    1.\n",
      "   0.    0.    0.    0.    1.    1.    0.    1.    0.    1.    1.    1.    0.\n",
      "   0.    0.    0.    0.    1.    0.    0.    1.    0.    0.    1.    1.    0.\n",
      "   0.    0.    1.    1.    1.    0.    0.    0.    0.    1.    0.    1.    0.\n",
      "   0.    1.    0.    1.    0.    1.    1.    0.    1.    0.    0.    1.    1.\n",
      "   0.    0.    1.    0.    0.  ]]\n",
      "participant11.p\n",
      "[[-2.25 -4.5   2.25 -6.75  6.75  4.5   0.    4.5   6.75 -4.5   0.   -6.75\n",
      "  -2.25  2.25  0.   -4.5  -2.25  6.75  2.25 -6.75  4.5   4.5  -6.75 -4.5\n",
      "   2.25  6.75  0.   -2.25  4.5   0.    6.75 -2.25 -4.5  -6.75  2.25  4.5\n",
      "  -2.25 -4.5   0.   -6.75  6.75  2.25 -6.75  6.75  2.25  4.5  -4.5   0.\n",
      "  -2.25  0.   -4.5  -6.75  2.25 -2.25  4.5   6.75  6.75  0.   -4.5  -6.75\n",
      "   2.25  4.5  -2.25 -6.75  2.25 -2.25  6.75  4.5  -4.5   0.  ]\n",
      " [ 0.    0.    0.    0.    1.    0.    0.    1.    0.    0.    0.    0.    0.\n",
      "   0.    0.    0.    0.    1.    1.    0.    1.    1.    0.    0.    0.    1.\n",
      "   0.    0.    1.    0.    1.    0.    0.    0.    0.    1.    0.    0.    0.\n",
      "   0.    1.    0.    0.    1.    0.    1.    0.    0.    0.    0.    0.    0.\n",
      "   1.    0.    1.    1.    1.    0.    0.    0.    1.    1.    0.    0.    0.\n",
      "   0.    1.    1.    0.    0.  ]]\n",
      "participant12.p\n",
      "[[ 2.25 -2.25  4.5  -6.75  6.75 -4.5   0.    0.    2.25 -6.75  6.75 -2.25\n",
      "   4.5  -4.5   2.25  0.   -4.5   4.5  -2.25  6.75 -6.75  6.75 -6.75  4.5\n",
      "   0.    2.25 -4.5  -2.25 -4.5   2.25 -2.25  0.   -6.75  6.75  4.5  -6.75\n",
      "   0.    6.75  4.5  -2.25 -4.5   2.25 -6.75 -2.25  6.75  4.5  -4.5   2.25\n",
      "   0.   -2.25  2.25  6.75  4.5  -4.5   0.   -6.75 -2.25 -4.5  -6.75  4.5\n",
      "   0.    2.25  6.75 -2.25  4.5   6.75 -6.75 -4.5   2.25  0.  ]\n",
      " [ 1.    0.    1.    0.    1.    0.    0.    0.    1.    0.    1.    0.    1.\n",
      "   0.    1.    0.    0.    1.    1.    1.    0.    1.    0.    1.    0.    1.\n",
      "   0.    0.    0.    1.    0.    0.    0.    1.    1.    0.    0.    1.    1.\n",
      "   0.    0.    0.    0.    0.    1.    1.    0.    0.    0.    0.    0.    1.\n",
      "   1.    0.    0.    0.    0.    0.    0.    1.    0.    0.    1.    0.    1.\n",
      "   1.    0.    0.    1.    0.  ]]\n",
      "participant13.p\n",
      "[[ 4.5  -4.5   0.   -2.25 -6.75  2.25  6.75  4.5   6.75 -2.25 -6.75 -4.5\n",
      "   0.    2.25 -4.5   4.5  -2.25 -6.75  0.    6.75  2.25  0.   -4.5  -2.25\n",
      "  -6.75  2.25  4.5   6.75 -6.75 -4.5  -2.25  6.75  4.5   2.25  0.   -2.25\n",
      "   4.5  -4.5   0.    2.25 -6.75  6.75 -2.25  6.75  0.   -4.5   4.5  -6.75\n",
      "   2.25  0.   -4.5   2.25  6.75  4.5  -2.25 -6.75 -2.25  2.25 -6.75 -4.5\n",
      "   0.    4.5   6.75 -2.25 -6.75  0.    4.5  -4.5   6.75  2.25]\n",
      " [ 1.    0.    0.    0.    0.    1.    1.    1.    1.    0.    0.    0.    0.\n",
      "   1.    0.    1.    0.    0.    0.    1.    0.    0.    0.    0.    0.    1.\n",
      "   1.    1.    0.    0.    0.    1.    1.    0.    0.    0.    1.    0.    0.\n",
      "   1.    0.    1.    0.    1.    0.    0.    1.    0.    1.    0.    0.    1.\n",
      "   1.    1.    0.    0.    0.    1.    0.    0.    0.    1.    1.    0.    0.\n",
      "   0.    1.    0.    1.    0.  ]]\n",
      "participant14.p\n",
      "[[-6.75 -2.25  4.5   2.25  6.75  0.   -4.5   0.   -6.75  6.75  4.5  -2.25\n",
      "  -4.5   2.25 -2.25  0.   -4.5   6.75  2.25  4.5  -6.75  0.    2.25 -2.25\n",
      "   6.75 -4.5  -6.75  4.5   0.    4.5  -2.25 -6.75  6.75  2.25 -4.5   0.\n",
      "  -6.75 -4.5   6.75 -2.25  4.5   2.25  6.75 -6.75 -2.25  2.25 -4.5   0.\n",
      "   4.5   0.    4.5  -4.5   2.25 -2.25  6.75 -6.75  6.75 -4.5  -6.75  4.5\n",
      "   2.25 -2.25  0.   -4.5   6.75 -6.75 -2.25  4.5   2.25  0.  ]\n",
      " [ 0.    0.    1.    1.    1.    0.    0.    0.    0.    1.    1.    0.    0.\n",
      "   1.    0.    0.    0.    1.    1.    1.    0.    0.    1.    0.    1.    0.\n",
      "   0.    1.    0.    1.    0.    0.    1.    1.    0.    0.    0.    0.    1.\n",
      "   0.    1.    1.    1.    0.    0.    1.    0.    0.    1.    0.    1.    0.\n",
      "   1.    0.    1.    0.    1.    0.    0.    1.    1.    0.    0.    0.    1.\n",
      "   0.    0.    1.    1.    0.  ]]\n",
      "participant15.p\n",
      "[[-4.5   4.5   6.75 -2.25  2.25 -6.75  0.    4.5  -6.75  0.   -4.5   2.25\n",
      "  -2.25  6.75  6.75 -2.25 -4.5   0.    4.5  -6.75  2.25 -2.25  2.25  6.75\n",
      "  -4.5   4.5  -6.75  0.   -2.25  0.    4.5  -6.75  2.25 -4.5   6.75  6.75\n",
      "   2.25 -4.5  -6.75  0.    4.5  -2.25  6.75 -6.75  0.   -4.5   2.25  4.5\n",
      "  -2.25 -2.25 -6.75 -4.5   2.25  4.5   6.75  0.   -2.25  2.25 -4.5   0.\n",
      "  -6.75  6.75  4.5  -6.75  6.75 -2.25  4.5   2.25  0.   -4.5 ]\n",
      " [ 0.    1.    1.    0.    1.    0.    0.    1.    0.    0.    0.    1.    0.\n",
      "   1.    1.    0.    0.    0.    1.    0.    1.    0.    1.    1.    0.    1.\n",
      "   0.    0.    0.    0.    1.    0.    1.    0.    1.    1.    1.    0.    0.\n",
      "   0.    1.    0.    1.    0.    1.    0.    1.    1.    0.    0.    0.    0.\n",
      "   1.    1.    1.    0.    0.    1.    0.    1.    0.    1.    1.    0.    1.\n",
      "   0.    1.    1.    1.    0.  ]]\n",
      "participant2.p\n",
      "[[-6.75  6.75  4.5   2.25 -2.25 -4.5   6.75  2.25 -4.5  -6.75 -2.25  4.5\n",
      "   2.25 -6.75  4.5  -2.25 -4.5   6.75 -2.25  6.75  2.25  4.5  -4.5  -6.75\n",
      "  -2.25  6.75  4.5  -6.75  2.25 -4.5  -2.25  2.25 -4.5   6.75  4.5  -6.75\n",
      "  -4.5  -2.25  4.5  -6.75  2.25  6.75  6.75 -4.5  -2.25  2.25 -6.75  4.5\n",
      "   2.25  6.75  4.5  -4.5  -2.25 -6.75  6.75 -6.75 -4.5  -2.25  4.5   2.25]\n",
      " [ 0.    1.    1.    0.    0.    0.    1.    1.    0.    0.    0.    1.    0.\n",
      "   0.    1.    0.    0.    1.    0.    1.    0.    1.    0.    0.    0.    1.\n",
      "   1.    0.    0.    0.    0.    1.    0.    1.    1.    0.    0.    0.    1.\n",
      "   0.    0.    1.    1.    0.    0.    1.    0.    1.    1.    1.    1.    0.\n",
      "   0.    0.    1.    0.    0.    0.    1.    0.  ]]\n",
      "participant3.p\n",
      "[[-6.75 -4.5   2.25 -2.25  6.75  4.5   6.75 -2.25  2.25 -6.75  4.5  -4.5\n",
      "  -6.75 -4.5   2.25  4.5   6.75 -2.25 -6.75  6.75  2.25  4.5  -4.5  -2.25\n",
      "   4.5  -2.25 -4.5  -6.75  2.25  6.75 -6.75  4.5  -4.5   6.75  2.25 -2.25\n",
      "   2.25 -6.75  4.5  -2.25  6.75 -4.5  -4.5  -6.75 -2.25  2.25  4.5   6.75\n",
      "   4.5   6.75 -6.75 -2.25  2.25 -4.5   4.5  -4.5   2.25 -2.25 -6.75  6.75]\n",
      " [ 0.    0.    1.    0.    1.    1.    1.    0.    0.    0.    1.    0.    0.\n",
      "   0.    1.    1.    1.    0.    0.    1.    0.    1.    0.    0.    1.    0.\n",
      "   0.    0.    1.    1.    0.    1.    0.    1.    0.    0.    0.    0.    1.\n",
      "   0.    1.    0.    0.    0.    0.    0.    0.    1.    1.    1.    0.    0.\n",
      "   1.    0.    1.    0.    1.    0.    0.    1.  ]]\n",
      "participant4.p\n",
      "[[-6.75 -4.5   4.5   6.75  2.25 -2.25 -4.5  -2.25  4.5   6.75  2.25 -6.75\n",
      "   6.75  4.5  -6.75 -2.25 -4.5   2.25 -6.75  6.75  2.25 -2.25  4.5  -4.5\n",
      "   4.5  -6.75 -4.5  -2.25  6.75  2.25  4.5  -2.25  2.25 -4.5   6.75 -6.75\n",
      "  -4.5   6.75  2.25  4.5  -2.25 -6.75  6.75 -6.75  2.25  4.5  -4.5  -2.25\n",
      "  -4.5   2.25  6.75 -6.75  4.5  -2.25  4.5   2.25  6.75 -2.25 -4.5  -6.75]\n",
      " [ 0.    0.    1.    1.    1.    1.    0.    0.    1.    1.    1.    0.    1.\n",
      "   1.    0.    0.    0.    1.    0.    1.    1.    0.    1.    0.    1.    0.\n",
      "   0.    0.    1.    0.    1.    0.    0.    0.    1.    0.    0.    1.    1.\n",
      "   1.    0.    0.    1.    0.    0.    1.    0.    0.    0.    0.    1.    0.\n",
      "   1.    0.    1.    0.    1.    0.    0.    0.  ]]\n",
      "participant5.p\n",
      "[[-6.75  6.75 -2.25  4.5  -4.5   0.    2.25 -2.25  4.5  -6.75  6.75  0.\n",
      "  -4.5   2.25  2.25 -2.25  6.75 -6.75  4.5  -4.5   0.   -6.75  0.    2.25\n",
      "   4.5   6.75 -2.25 -4.5   2.25  0.   -2.25  6.75  4.5  -6.75 -4.5  -2.25\n",
      "   6.75  2.25  0.    4.5  -4.5  -6.75 -4.5   0.    2.25 -2.25 -6.75  4.5\n",
      "   6.75 -2.25 -4.5   6.75  4.5   0.    2.25 -6.75  6.75  4.5  -6.75  2.25\n",
      "  -4.5   0.   -2.25 -6.75  0.    4.5   2.25 -2.25  6.75 -4.5 ]\n",
      " [ 0.    1.    0.    1.    0.    1.    1.    0.    1.    0.    1.    0.    0.\n",
      "   1.    1.    0.    1.    0.    1.    0.    0.    0.    1.    1.    1.    1.\n",
      "   0.    0.    1.    0.    0.    1.    1.    0.    0.    0.    1.    0.    0.\n",
      "   1.    0.    0.    0.    0.    1.    0.    0.    1.    1.    0.    0.    1.\n",
      "   1.    0.    1.    0.    1.    1.    0.    1.    1.    0.    0.    0.    0.\n",
      "   1.    0.    0.    1.    0.  ]]\n",
      "participant6.p\n",
      "[[ 2.25  6.75 -4.5  -2.25  4.5  -6.75  0.   -6.75  6.75 -4.5  -2.25  2.25\n",
      "   4.5   0.   -4.5   4.5   0.   -6.75  2.25  6.75 -2.25  6.75  0.   -2.25\n",
      "  -4.5  -6.75  4.5   2.25  6.75  4.5  -4.5  -2.25  0.   -6.75  2.25 -4.5\n",
      "   2.25  4.5  -6.75 -2.25  6.75  0.   -6.75  6.75  2.25  0.   -4.5  -2.25\n",
      "   4.5   6.75  2.25 -6.75 -2.25  4.5  -4.5   0.   -4.5  -6.75  4.5   2.25\n",
      "   0.    6.75 -2.25 -6.75  6.75  0.   -2.25  2.25  4.5  -4.5 ]\n",
      " [ 0.    1.    0.    0.    1.    0.    0.    0.    1.    0.    0.    1.    1.\n",
      "   0.    0.    1.    0.    0.    1.    1.    0.    1.    0.    0.    0.    0.\n",
      "   1.    1.    1.    1.    0.    0.    0.    0.    1.    0.    1.    1.    0.\n",
      "   0.    1.    0.    0.    1.    1.    0.    0.    0.    1.    1.    0.    0.\n",
      "   0.    1.    0.    1.    0.    0.    1.    1.    0.    1.    0.    0.    1.\n",
      "   1.    0.    1.    1.    0.  ]]\n",
      "participant7.p\n",
      "[[-4.5   6.75 -6.75  4.5   2.25 -2.25  0.    0.   -2.25  2.25  6.75 -4.5\n",
      "  -6.75  4.5  -6.75 -2.25 -4.5   2.25  0.    4.5   6.75  4.5   2.25  6.75\n",
      "  -2.25 -6.75 -4.5   0.   -6.75 -4.5  -2.25  6.75  2.25  4.5   0.   -2.25\n",
      "   6.75  2.25  4.5  -6.75 -4.5   0.   -4.5   2.25 -6.75 -2.25  6.75  4.5\n",
      "   0.    6.75  0.   -4.5   4.5  -2.25 -6.75  2.25  2.25 -2.25 -4.5   4.5\n",
      "   0.    6.75 -6.75 -2.25 -6.75  4.5   2.25 -4.5   0.    6.75]\n",
      " [ 0.    1.    0.    1.    1.    0.    0.    0.    0.    1.    1.    0.    0.\n",
      "   1.    0.    0.    0.    1.    0.    1.    1.    1.    1.    1.    0.    0.\n",
      "   0.    0.    0.    0.    0.    1.    1.    1.    0.    0.    1.    1.    1.\n",
      "   0.    0.    0.    0.    1.    0.    0.    1.    1.    0.    1.    0.    0.\n",
      "   1.    0.    0.    1.    1.    0.    0.    1.    0.    1.    0.    0.    0.\n",
      "   1.    0.    0.    1.    1.  ]]\n",
      "participant8.p\n",
      "[[ 2.25  4.5   0.   -6.75 -4.5  -2.25  6.75  6.75 -6.75 -4.5   0.    4.5\n",
      "  -2.25  2.25 -6.75  6.75 -2.25  2.25  4.5  -4.5   0.   -6.75 -2.25 -4.5\n",
      "   4.5   2.25  6.75  0.    2.25  0.    4.5  -4.5  -2.25  6.75 -6.75 -6.75\n",
      "   2.25  6.75  0.   -2.25 -4.5   4.5   4.5   6.75  0.   -6.75 -4.5  -2.25\n",
      "   2.25  0.    2.25  6.75 -2.25 -4.5   4.5  -6.75 -2.25  2.25 -6.75  0.\n",
      "   6.75 -4.5   4.5  -4.5  -6.75  0.   -2.25  4.5   2.25  6.75]\n",
      " [ 1.    1.    0.    0.    0.    0.    1.    1.    0.    0.    0.    1.    1.\n",
      "   0.    0.    1.    0.    0.    1.    0.    0.    0.    0.    0.    1.    0.\n",
      "   1.    0.    0.    0.    1.    0.    0.    1.    0.    0.    1.    1.    0.\n",
      "   0.    0.    1.    0.    1.    0.    0.    0.    0.    1.    0.    1.    1.\n",
      "   0.    0.    1.    0.    0.    0.    0.    0.    1.    0.    1.    0.    0.\n",
      "   0.    0.    1.    1.    1.  ]]\n",
      "participant9.p\n",
      "[[ 2.25 -4.5   6.75 -6.75 -2.25  4.5   0.   -2.25 -6.75  4.5   0.   -4.5\n",
      "   6.75  2.25 -6.75  0.    2.25 -2.25  4.5  -4.5   6.75 -6.75  4.5   6.75\n",
      "   0.   -2.25 -4.5   2.25 -4.5  -6.75  2.25  0.    4.5  -2.25  6.75  2.25\n",
      "   4.5   0.    6.75 -4.5  -6.75 -2.25  0.   -2.25  2.25 -6.75  4.5   6.75\n",
      "  -4.5   0.    6.75  2.25 -2.25 -4.5   4.5  -6.75 -4.5  -2.25  0.    2.25\n",
      "   6.75  4.5  -6.75  0.   -2.25  4.5  -4.5   6.75  2.25 -6.75]\n",
      " [ 1.    0.    1.    0.    0.    1.    0.    0.    0.    1.    0.    0.    1.\n",
      "   1.    0.    1.    1.    0.    1.    0.    1.    0.    1.    1.    0.    0.\n",
      "   0.    1.    0.    0.    1.    0.    1.    0.    1.    1.    1.    0.    1.\n",
      "   0.    0.    0.    0.    0.    1.    0.    1.    1.    0.    0.    1.    1.\n",
      "   0.    0.    1.    0.    0.    0.    0.    1.    1.    1.    0.    0.    0.\n",
      "   1.    0.    1.    1.    0.  ]]\n"
     ]
    }
   ],
   "source": [
    "for filename in os.listdir('data/preprocessed/audio'):\n",
    "    if filename.endswith('.p'):\n",
    "        print(filename)\n",
    "        data = pickle.load( open('data/preprocessed/audio/' + filename, \"rb\" ) )\n",
    "        print(data)"
   ]
  },
  {
   "cell_type": "markdown",
   "metadata": {},
   "source": [
    "The key component of this class is the method `nloglikeobs`, which returns the negative log likelihood of each observed value in `endog`.  Secondarily, we must also supply reasonable initial guesses of the parameters in `fit`.  Obtaining the maximum likelihood estimate is now simple."
   ]
  },
  {
   "cell_type": "code",
   "execution_count": 49,
   "metadata": {
    "collapsed": false
   },
   "outputs": [
    {
     "data": {
      "text/plain": [
       "array([ 2.25, -4.5 ,  6.75, -6.75, -2.25,  4.5 ,  0.  , -2.25, -6.75,\n",
       "        4.5 ,  0.  , -4.5 ,  6.75,  2.25, -6.75,  0.  ,  2.25, -2.25,\n",
       "        4.5 , -4.5 ,  6.75, -6.75,  4.5 ,  6.75,  0.  , -2.25, -4.5 ,\n",
       "        2.25, -4.5 , -6.75,  2.25,  0.  ,  4.5 , -2.25,  6.75,  2.25,\n",
       "        4.5 ,  0.  ,  6.75, -4.5 , -6.75, -2.25,  0.  , -2.25,  2.25,\n",
       "       -6.75,  4.5 ,  6.75, -4.5 ,  0.  ,  6.75,  2.25, -2.25, -4.5 ,\n",
       "        4.5 , -6.75, -4.5 , -2.25,  0.  ,  2.25,  6.75,  4.5 , -6.75,\n",
       "        0.  , -2.25,  4.5 , -4.5 ,  6.75,  2.25, -6.75])"
      ]
     },
     "execution_count": 49,
     "metadata": {},
     "output_type": "execute_result"
    }
   ],
   "source": [
    "data[0,:]"
   ]
  },
  {
   "cell_type": "code",
   "execution_count": 50,
   "metadata": {
    "collapsed": false
   },
   "outputs": [
    {
     "name": "stdout",
     "output_type": "stream",
     "text": [
      "Warning: Maximum number of iterations has been exceeded.\n"
     ]
    },
    {
     "name": "stderr",
     "output_type": "stream",
     "text": [
      "/Users/polaschwoebel/anaconda/lib/python3.5/site-packages/statsmodels/base/model.py:466: ConvergenceWarning: Maximum Likelihood optimization failed to converge. Check mle_retvals\n",
      "  \"Check mle_retvals\", ConvergenceWarning)\n"
     ]
    }
   ],
   "source": [
    "model = BernoulliCumNorm(data[1,:], data[0,:])\n",
    "results = model.fit()"
   ]
  },
  {
   "cell_type": "code",
   "execution_count": 51,
   "metadata": {
    "collapsed": false
   },
   "outputs": [
    {
     "data": {
      "text/plain": [
       "{'converged': False,\n",
       " 'fcalls': 3999,\n",
       " 'fopt': inf,\n",
       " 'iterations': 1000,\n",
       " 'warnflag': 2}"
      ]
     },
     "execution_count": 51,
     "metadata": {},
     "output_type": "execute_result"
    }
   ],
   "source": [
    "results.mle_retvals"
   ]
  },
  {
   "cell_type": "markdown",
   "metadata": {},
   "source": [
    "We see that we have estimated the parameters fairly well."
   ]
  },
  {
   "cell_type": "code",
   "execution_count": 52,
   "metadata": {
    "collapsed": false
   },
   "outputs": [
    {
     "data": {
      "text/plain": [
       "array([ 0.,  2.])"
      ]
     },
     "execution_count": 52,
     "metadata": {},
     "output_type": "execute_result"
    }
   ],
   "source": [
    "results.params\n"
   ]
  },
  {
   "cell_type": "markdown",
   "metadata": {},
   "source": [
    "There are many advantages to buying into the `statsmodels` ecosystem and subclassing `GenericLikelihoodModel`.  The already-written `statsmodels` code handles storing the observations and the interaction with `scipy.optimize` for us.  (It is possible to control the use of `scipy.optimize` through keyword arguments to `fit`.)\n",
    "\n",
    "We also gain access to many of `statsmodels`' built in model analysis tools.  For example, we can use bootstrap resampling to estimate the variation in our parameter estimates."
   ]
  },
  {
   "cell_type": "code",
   "execution_count": 13,
   "metadata": {
    "collapsed": false
   },
   "outputs": [
    {
     "name": "stdout",
     "output_type": "stream",
     "text": [
      "<class '__main__.ZeroInflatedPoisson'>\n"
     ]
    }
   ],
   "source": [
    "boot_mean, boot_std, boot_samples = results.bootstrap(nrep=500, store=True)\n",
    "boot_pis = boot_samples[:, 0]\n",
    "boot_lambdas = boot_samples[:, 1]"
   ]
  },
  {
   "cell_type": "code",
   "execution_count": 14,
   "metadata": {
    "collapsed": false
   },
   "outputs": [
    {
     "data": {
      "image/png": "[encoded data removed]",
      "text/plain": [
       "<matplotlib.figure.Figure at 0x7faf758dbb50>"
      ]
     },
     "metadata": {},
     "output_type": "display_data"
    }
   ],
   "source": [
    "fig, (pi_ax, lambda_ax) = plt.subplots(ncols=2, figsize=(16, 6))\n",
    "\n",
    "sns.boxplot(boot_pis, ax=pi_ax, names=['$\\pi$'], color=palette[0]);\n",
    "sns.boxplot(boot_lambdas, ax=lambda_ax, names=['$\\lambda$'], color=palette[1]);\n",
    "\n",
    "fig.suptitle('Boostrap distribution of maximum likelihood estimates');"
   ]
  },
  {
   "cell_type": "markdown",
   "metadata": {},
   "source": [
    "The next time you are fitting a model using maximum likelihood, try integrating with `statsmodels` to take advantage of the significant amount of work that has gone into its ecosystem."
   ]
  },
  {
   "cell_type": "code",
   "execution_count": null,
   "metadata": {
    "collapsed": true
   },
   "outputs": [],
   "source": []
  }
 ],
 "metadata": {
  "anaconda-cloud": {},
  "kernelspec": {
   "display_name": "Python [Root]",
   "language": "python",
   "name": "Python [Root]"
  },
  "language_info": {
   "codemirror_mode": {
    "name": "ipython",
    "version": 3
   },
   "file_extension": ".py",
   "mimetype": "text/x-python",
   "name": "python",
   "nbconvert_exporter": "python",
   "pygments_lexer": "ipython3",
   "version": "3.5.2"
  }
 },
 "nbformat": 4,
 "nbformat_minor": 0
}
