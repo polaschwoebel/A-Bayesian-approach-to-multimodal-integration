{
 "cells": [
  {
   "cell_type": "code",
   "execution_count": 1,
   "metadata": {
    "collapsed": true
   },
   "outputs": [],
   "source": [
    "import pandas as pd"
   ]
  },
  {
   "cell_type": "code",
   "execution_count": 3,
   "metadata": {
    "collapsed": false
   },
   "outputs": [],
   "source": [
    "experiment = pd.read_csv('data/participant1_trial_2017_May_24_1609.csv')"
   ]
  },
  {
   "cell_type": "code",
   "execution_count": 4,
   "metadata": {
    "collapsed": false
   },
   "outputs": [
    {
     "data": {
      "text/plain": [
       "Index(['path', 'name', 'noise', 'location', 'correspondingAudio',\n",
       "       'audiotrials.thisRepN', 'audiotrials.thisTrialN', 'audiotrials.thisN',\n",
       "       'audiotrials.thisIndex', 'visualTrials.thisRepN',\n",
       "       'visualTrials.thisTrialN', 'visualTrials.thisN',\n",
       "       'visualTrials.thisIndex', 'combinedTrials.thisRepN',\n",
       "       'combinedTrials.thisTrialN', 'combinedTrials.thisN',\n",
       "       'combinedTrials.thisIndex', 'WelcomeKey.keys', 'WelcomeKey.rt',\n",
       "       'key_resp_2.keys', 'key_resp_2.rt', 'AudioInstrAccept.keys',\n",
       "       'AudioInstrAccept.rt', 'LeftorRight.keys', 'LeftorRight.rt',\n",
       "       'VisualBlock.keys', 'VisualBlock.rt', 'VisualDecision.keys',\n",
       "       'VisualDecision.rt', 'CombinedAccept.keys', 'CombinedAccept.rt',\n",
       "       'CombComparisonResponse.keys', 'CombComparisonResponse.rt',\n",
       "       'participant', 'age', 'frameRate', 'sex', 'expName', 'date',\n",
       "       'Unnamed: 39'],\n",
       "      dtype='object')"
      ]
     },
     "execution_count": 4,
     "metadata": {},
     "output_type": "execute_result"
    }
   ],
   "source": [
    "experiment.columns"
   ]
  },
  {
   "cell_type": "code",
   "execution_count": 21,
   "metadata": {
    "collapsed": false
   },
   "outputs": [],
   "source": [
    "# loop over all the files in folder \n",
    "def preprocess_data(filename):\n",
    "    experiment = pd.read_csv('data/' + filename)\n",
    "    audio = experiment[pd.notnull(experiment['name'])][['name','LeftorRight.keys']]\n",
    "    video = experiment[pd.notnull(experiment['VisualDecision.keys'])][['noise', 'location', 'VisualDecision.keys']]\n",
    "    combined = experiment[pd.notnull(experiment['CombComparisonResponse.keys'])][['noise', 'location', 'CombComparisonResponse.keys']]\n",
    "    return audio, video, combined"
   ]
  },
  {
   "cell_type": "code",
   "execution_count": 23,
   "metadata": {
    "collapsed": false
   },
   "outputs": [],
   "source": [
    "audio, video, combined = preprocess_data('participant1_trial_2017_May_24_1609.csv')"
   ]
  },
  {
   "cell_type": "code",
   "execution_count": 29,
   "metadata": {
    "collapsed": false,
    "scrolled": true
   },
   "outputs": [
    {
     "data": {
      "text/plain": [
       "(350, 3)"
      ]
     },
     "execution_count": 29,
     "metadata": {},
     "output_type": "execute_result"
    }
   ],
   "source": [
    "combined.shape"
   ]
  },
  {
   "cell_type": "code",
   "execution_count": 34,
   "metadata": {
    "collapsed": false,
    "scrolled": true
   },
   "outputs": [
    {
     "data": {
      "text/plain": [
       "0             NaN\n",
       "1             NaN\n",
       "2             NaN\n",
       "3       [2.25, 0]\n",
       "4      [-6.75, 0]\n",
       "5      [-6.75, 0]\n",
       "6        [4.5, 0]\n",
       "7       [6.75, 0]\n",
       "8       [2.25, 0]\n",
       "9        [4.5, 0]\n",
       "10      [6.75, 0]\n",
       "11       [4.5, 0]\n",
       "12      [6.75, 0]\n",
       "13     [-6.75, 0]\n",
       "14       [4.5, 0]\n",
       "15     [-6.75, 0]\n",
       "16      [2.25, 0]\n",
       "17       [4.5, 0]\n",
       "18         [0, 0]\n",
       "19      [-4.5, 0]\n",
       "20         [0, 0]\n",
       "21         [0, 0]\n",
       "22      [-4.5, 0]\n",
       "23      [-4.5, 0]\n",
       "24      [2.25, 0]\n",
       "25      [-4.5, 0]\n",
       "26       [4.5, 0]\n",
       "27      [2.25, 0]\n",
       "28      [2.25, 0]\n",
       "29         [0, 0]\n",
       "          ...    \n",
       "115     [6.75, 0]\n",
       "116     [-4.5, 0]\n",
       "117     [6.75, 0]\n",
       "118        [0, 0]\n",
       "119     [6.75, 0]\n",
       "120    [-6.75, 0]\n",
       "121    [-2.25, 0]\n",
       "122     [2.25, 0]\n",
       "123     [-4.5, 0]\n",
       "124     [-4.5, 0]\n",
       "125    [-6.75, 0]\n",
       "126        [0, 0]\n",
       "127    [-2.25, 0]\n",
       "128    [-2.25, 0]\n",
       "129     [-4.5, 0]\n",
       "130      [4.5, 0]\n",
       "131      [4.5, 0]\n",
       "132     [6.75, 0]\n",
       "133    [-6.75, 0]\n",
       "134    [-2.25, 0]\n",
       "135     [2.25, 0]\n",
       "136      [4.5, 0]\n",
       "137    [-6.75, 0]\n",
       "138      [4.5, 0]\n",
       "139     [6.75, 0]\n",
       "140     [2.25, 0]\n",
       "141    [-2.25, 0]\n",
       "142    [-2.25, 0]\n",
       "143      [4.5, 0]\n",
       "144     [-4.5, 0]\n",
       "Name: location, dtype: object"
      ]
     },
     "execution_count": 34,
     "metadata": {},
     "output_type": "execute_result"
    }
   ],
   "source": [
    "experiment['location']"
   ]
  },
  {
   "cell_type": "code",
   "execution_count": 35,
   "metadata": {
    "collapsed": false,
    "scrolled": true
   },
   "outputs": [
    {
     "data": {
      "text/plain": [
       "0       NaN\n",
       "1       NaN\n",
       "2       NaN\n",
       "3      0.62\n",
       "4      0.10\n",
       "5      0.10\n",
       "6      0.23\n",
       "7      0.62\n",
       "8      0.23\n",
       "9      0.10\n",
       "10     0.36\n",
       "11     0.36\n",
       "12     0.36\n",
       "13     0.10\n",
       "14     0.23\n",
       "15     0.10\n",
       "16     0.10\n",
       "17     0.36\n",
       "18     0.10\n",
       "19     0.62\n",
       "20     0.49\n",
       "21     0.23\n",
       "22     0.62\n",
       "23     0.23\n",
       "24     0.62\n",
       "25     0.62\n",
       "26     0.62\n",
       "27     0.62\n",
       "28     0.10\n",
       "29     0.62\n",
       "       ... \n",
       "115    0.36\n",
       "116    0.23\n",
       "117    0.49\n",
       "118    0.10\n",
       "119    0.62\n",
       "120    0.49\n",
       "121    0.10\n",
       "122    0.10\n",
       "123    0.36\n",
       "124    0.10\n",
       "125    0.62\n",
       "126    0.49\n",
       "127    0.62\n",
       "128    0.49\n",
       "129    0.23\n",
       "130    0.36\n",
       "131    0.49\n",
       "132    0.23\n",
       "133    0.36\n",
       "134    0.10\n",
       "135    0.49\n",
       "136    0.23\n",
       "137    0.62\n",
       "138    0.36\n",
       "139    0.62\n",
       "140    0.10\n",
       "141    0.49\n",
       "142    0.49\n",
       "143    0.10\n",
       "144    0.49\n",
       "Name: noise, dtype: float64"
      ]
     },
     "execution_count": 35,
     "metadata": {},
     "output_type": "execute_result"
    }
   ],
   "source": [
    "experiment['noise']"
   ]
  },
  {
   "cell_type": "code",
   "execution_count": null,
   "metadata": {
    "collapsed": true
   },
   "outputs": [],
   "source": []
  }
 ],
 "metadata": {
  "anaconda-cloud": {},
  "kernelspec": {
   "display_name": "Python [Root]",
   "language": "python",
   "name": "Python [Root]"
  },
  "language_info": {
   "codemirror_mode": {
    "name": "ipython",
    "version": 3
   },
   "file_extension": ".py",
   "mimetype": "text/x-python",
   "name": "python",
   "nbconvert_exporter": "python",
   "pygments_lexer": "ipython3",
   "version": "3.5.2"
  }
 },
 "nbformat": 4,
 "nbformat_minor": 0
}
