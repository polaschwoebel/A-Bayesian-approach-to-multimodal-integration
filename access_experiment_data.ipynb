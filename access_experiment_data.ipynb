{
 "cells": [
  {
   "cell_type": "code",
   "execution_count": 12,
   "metadata": {
    "collapsed": true
   },
   "outputs": [],
   "source": [
    "import pandas as pd"
   ]
  },
  {
   "cell_type": "code",
   "execution_count": 14,
   "metadata": {
    "collapsed": false
   },
   "outputs": [],
   "source": [
    "experiment = pd.read_csv('data/test1_trial_2017_May_22_1013.csv')"
   ]
  },
  {
   "cell_type": "code",
   "execution_count": 26,
   "metadata": {
    "collapsed": false
   },
   "outputs": [
    {
     "data": {
      "text/plain": [
       "Index(['noise', 'location', 'correspondingAudio', 'combinedTrials.thisRepN',\n",
       "       'combinedTrials.thisTrialN', 'combinedTrials.thisN',\n",
       "       'combinedTrials.thisIndex', 'WelcomeKey.keys', 'WelcomeKey.rt',\n",
       "       'key_resp_2.keys', 'key_resp_2.rt', 'CombinedAccept.keys',\n",
       "       'CombinedAccept.rt', 'CombComparisonResponse.keys',\n",
       "       'CombComparisonResponse.corr', 'CombComparisonResponse.rt',\n",
       "       'participant', 'age', 'frameRate', 'sex', 'expName', 'date',\n",
       "       'Unnamed: 22'],\n",
       "      dtype='object')"
      ]
     },
     "execution_count": 26,
     "metadata": {},
     "output_type": "execute_result"
    }
   ],
   "source": [
    "experiment.columns"
   ]
  },
  {
   "cell_type": "code",
   "execution_count": 33,
   "metadata": {
    "collapsed": false,
    "scrolled": true
   },
   "outputs": [
    {
     "data": {
      "text/plain": [
       "0        NaN\n",
       "1        NaN\n",
       "2        NaN\n",
       "3      right\n",
       "4      right\n",
       "5       left\n",
       "6      right\n",
       "7      right\n",
       "8      right\n",
       "9      right\n",
       "10     right\n",
       "11     right\n",
       "12     right\n",
       "13      left\n",
       "14     right\n",
       "15     right\n",
       "16     right\n",
       "17     right\n",
       "18     right\n",
       "19     right\n",
       "20     right\n",
       "21      left\n",
       "22      left\n",
       "23      left\n",
       "24     right\n",
       "25      left\n",
       "26     right\n",
       "27     right\n",
       "28     right\n",
       "29      left\n",
       "       ...  \n",
       "115    right\n",
       "116     left\n",
       "117    right\n",
       "118    right\n",
       "119    right\n",
       "120     left\n",
       "121     left\n",
       "122    right\n",
       "123     left\n",
       "124     left\n",
       "125     left\n",
       "126     left\n",
       "127     left\n",
       "128     left\n",
       "129    right\n",
       "130    right\n",
       "131    right\n",
       "132    right\n",
       "133    right\n",
       "134    right\n",
       "135    right\n",
       "136    right\n",
       "137    right\n",
       "138    right\n",
       "139    right\n",
       "140    right\n",
       "141    right\n",
       "142    right\n",
       "143    right\n",
       "144    right\n",
       "Name: CombComparisonResponse.keys, dtype: object"
      ]
     },
     "execution_count": 33,
     "metadata": {},
     "output_type": "execute_result"
    }
   ],
   "source": [
    "# see whether or not it's a mixed stimulus from here and extract answer\n",
    "experiment['CombComparisonResponse.keys']"
   ]
  },
  {
   "cell_type": "code",
   "execution_count": null,
   "metadata": {
    "collapsed": true
   },
   "outputs": [],
   "source": []
  }
 ],
 "metadata": {
  "anaconda-cloud": {},
  "kernelspec": {
   "display_name": "Python [Root]",
   "language": "python",
   "name": "Python [Root]"
  },
  "language_info": {
   "codemirror_mode": {
    "name": "ipython",
    "version": 3
   },
   "file_extension": ".py",
   "mimetype": "text/x-python",
   "name": "python",
   "nbconvert_exporter": "python",
   "pygments_lexer": "ipython3",
   "version": "3.5.2"
  }
 },
 "nbformat": 4,
 "nbformat_minor": 0
}
