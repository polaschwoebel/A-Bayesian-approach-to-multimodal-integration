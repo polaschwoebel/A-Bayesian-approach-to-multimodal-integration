{
 "cells": [
  {
   "cell_type": "code",
   "execution_count": 174,
   "metadata": {
    "collapsed": true
   },
   "outputs": [],
   "source": [
    "import pandas as pd\n",
    "import os\n",
    "import pickle"
   ]
  },
  {
   "cell_type": "code",
   "execution_count": 150,
   "metadata": {
    "collapsed": false
   },
   "outputs": [],
   "source": [
    "# do this for all the files in data folder \n",
    "def preprocess_data(filename):\n",
    "    experiment = pd.read_csv('data/' + filename)\n",
    "    audio = experiment[pd.notnull(experiment['name'])][['name','LeftorRight.keys']]\n",
    "    # map l/r to 0/1\n",
    "    audio['LeftorRight.keys'] = audio['LeftorRight.keys'].map(rewrite_to_binary)\n",
    "    # map location\n",
    "    location_lookup = {'left30': -2.25, 'left60': -4.5 , 'left100': -6.75, 'equal': 0.0, 'right30': 2.25, 'right60': 4.5 , 'right100': 6.75}\n",
    "    audio['name'] = audio['name'].map(lambda x: location_lookup[x])\n",
    "    \n",
    "    video = experiment[pd.notnull(experiment['VisualDecision.keys'])][['noise', 'location', 'VisualDecision.keys']]\n",
    "    # map l/r to 0/1\n",
    "    video['VisualDecision.keys'] = video['VisualDecision.keys'].map(rewrite_to_binary)\n",
    "    # map location\n",
    "    video['location'] = video['location'].map(extract_location)\n",
    "    \n",
    "    combined = experiment[pd.notnull(experiment['CombComparisonResponse.keys'])][['noise', 'location', 'CombComparisonResponse.keys']]\n",
    "    # map l/r to 0/1\n",
    "    combined['CombComparisonResponse.keys'] = combined['CombComparisonResponse.keys'].map(rewrite_to_binary)\n",
    "    # map location\n",
    "    combined['location'] = combined['location'].map(extract_location)\n",
    "\n",
    "    \n",
    "    return audio, video, combined"
   ]
  },
  {
   "cell_type": "code",
   "execution_count": 171,
   "metadata": {
    "collapsed": true
   },
   "outputs": [],
   "source": [
    "# AUDIO: make a dictionary of the form \n",
    "# {{'loc1': val1, ...,'loc7': val7}}\n",
    "def analyse_audio(audio):\n",
    "    res = audio.groupby('name').mean()\n",
    "    res = res['LeftorRight.keys'].to_dict()\n",
    "    return res"
   ]
  },
  {
   "cell_type": "code",
   "execution_count": 177,
   "metadata": {
    "collapsed": true
   },
   "outputs": [],
   "source": [
    "# VISUAL: make a dictionary of the form \n",
    "# {'noise_level1': {'loc1': val1, ...,'loc7': val7}, ...}\n",
    "def analyse_visual(video):\n",
    "    noise_levels = [0.10, 0.23, 0.36, 0.49, 0.62]\n",
    "    video_results = video.groupby(['noise', 'location']).mean()\n",
    "    results = {}\n",
    "    for noise in noise_levels:\n",
    "        video_noise = video_results.loc[noise]\n",
    "        results_here = video_noise['VisualDecision.keys'].to_dict()\n",
    "        results[noise] = results_here\n",
    "    return results"
   ]
  },
  {
   "cell_type": "code",
   "execution_count": 159,
   "metadata": {
    "collapsed": true
   },
   "outputs": [],
   "source": [
    "# COMBINED: make a dictionary of the form \n",
    "# {'noise_level1': {'loc1': val1, ...,'loc7': val7}, ...}\n",
    "def analyse_combined(combined):\n",
    "    noise_levels = [0.10, 0.23, 0.36, 0.49, 0.62]\n",
    "    comb_results = combined.groupby(['noise', 'location']).mean()\n",
    "    results = {}\n",
    "    for noise in noise_levels:\n",
    "        comb_noise = comb_results.loc[noise]\n",
    "        results_here = comb_noise['CombComparisonResponse.keys'].to_dict()\n",
    "        results[noise] = results_here\n",
    "    return results"
   ]
  },
  {
   "cell_type": "code",
   "execution_count": 153,
   "metadata": {
    "collapsed": false,
    "scrolled": true
   },
   "outputs": [],
   "source": [
    "audio, video, combined = preprocess_data('participant1_trial_2017_May_24_1609.csv')"
   ]
  },
  {
   "cell_type": "markdown",
   "metadata": {},
   "source": [
    "## Helper functions"
   ]
  },
  {
   "cell_type": "code",
   "execution_count": 34,
   "metadata": {
    "collapsed": true
   },
   "outputs": [],
   "source": [
    "def rewrite_to_binary(lr):\n",
    "    if lr == 'left':\n",
    "        return 0\n",
    "    if lr == 'right':\n",
    "        return 1\n",
    "    else:\n",
    "        print('Something went wrong!')"
   ]
  },
  {
   "cell_type": "code",
   "execution_count": 57,
   "metadata": {
    "collapsed": false
   },
   "outputs": [],
   "source": [
    "def extract_location(loc_list):\n",
    "    return float(loc_list.split(',')[0][1:])"
   ]
  },
  {
   "cell_type": "markdown",
   "metadata": {},
   "source": [
    "## Apply to all files and save result"
   ]
  },
  {
   "cell_type": "code",
   "execution_count": 186,
   "metadata": {
    "collapsed": false
   },
   "outputs": [
    {
     "name": "stdout",
     "output_type": "stream",
     "text": [
      "participant1\n",
      "participant2\n",
      "participant3\n",
      "participant4\n"
     ]
    }
   ],
   "source": [
    "for filename in os.listdir('data'):\n",
    "    if filename.endswith(\".csv\"): \n",
    "        participant = filename.split('_')[0]\n",
    "        print(participant)\n",
    "        audio, video, combined = preprocess_data(filename)\n",
    "        \n",
    "        audio_res = analyse_audio(audio)\n",
    "        pickle.dump( audio_res, open( \"data/preprocessed/audio/%s.p\"%participant, \"wb\" ) )\n",
    "        \n",
    "        video_res = analyse_visual(video)\n",
    "        pickle.dump( video_res, open( \"data/preprocessed/video/%s.p\"%participant, \"wb\" ) )\n",
    "\n",
    "        comb_res = analyse_combined(combined)\n",
    "        pickle.dump( comb_res, open( \"data/preprocessed/combined/%s.p\"%participant, \"wb\" ) )"
   ]
  },
  {
   "cell_type": "code",
   "execution_count": null,
   "metadata": {
    "collapsed": true
   },
   "outputs": [],
   "source": []
  }
 ],
 "metadata": {
  "anaconda-cloud": {},
  "kernelspec": {
   "display_name": "Python [Root]",
   "language": "python",
   "name": "Python [Root]"
  },
  "language_info": {
   "codemirror_mode": {
    "name": "ipython",
    "version": 3
   },
   "file_extension": ".py",
   "mimetype": "text/x-python",
   "name": "python",
   "nbconvert_exporter": "python",
   "pygments_lexer": "ipython3",
   "version": "3.5.2"
  }
 },
 "nbformat": 4,
 "nbformat_minor": 0
}
