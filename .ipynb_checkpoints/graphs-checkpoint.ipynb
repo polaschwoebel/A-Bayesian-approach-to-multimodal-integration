{
 "cells": [
  {
   "cell_type": "code",
   "execution_count": 1,
   "metadata": {
    "collapsed": true
   },
   "outputs": [],
   "source": [
    "import matplotlib.pyplot as plt\n",
    "%matplotlib inline\n",
    "import numpy as np\n",
    "import matplotlib.mlab as mlab\n",
    "import math"
   ]
  },
  {
   "cell_type": "code",
   "execution_count": 2,
   "metadata": {
    "collapsed": true
   },
   "outputs": [],
   "source": [
    "from scipy import stats"
   ]
  },
  {
   "cell_type": "code",
   "execution_count": 6,
   "metadata": {
    "collapsed": true
   },
   "outputs": [],
   "source": [
    "def phi(x, mu, sigma2):\n",
    "    # rewrote it to take sigma2 and then take the square root - not sure this is numerically smart... try without\n",
    "    sigma = math.sqrt(sigma2)\n",
    "    distribution = stats.norm(loc = mu, scale = sigma)\n",
    "    #print('Phi gives %s for params %s, %s' %(distribution.cdf(x), mu, sigma2))\n",
    "    \n",
    "    return distribution.pdf(x)"
   ]
  },
  {
   "cell_type": "code",
   "execution_count": 51,
   "metadata": {
    "collapsed": false
   },
   "outputs": [
    {
     "data": {
      "text/plain": [
       "<matplotlib.text.Text at 0x114d72b00>"
      ]
     },
     "execution_count": 51,
     "metadata": {},
     "output_type": "execute_result"
    },
    {
     "data": {
      "image/png": "[encoded data removed]",
      "text/plain": [
       "<matplotlib.figure.Figure at 0x114d262e8>"
      ]
     },
     "metadata": {},
     "output_type": "display_data"
    }
   ],
   "source": [
    "x = np.arange(-7., 7., 0.2)\n",
    "plt.axvline( x=35, ymin=0, ymax = 1, linewidth=1, color='k', linestyle='--')\n",
    "#plt.plot([30,0],[30,0.1],'k--',lw=1)\n",
    "\n",
    "plt.plot(phi(x, -2, 2), color = 'r')\n",
    "plt.plot(phi(x, 2, 2), color = 'b')\n",
    "plt.xticks([], [])\n",
    "plt.yticks([], [])\n",
    "plt.xlabel('location')\n",
    "plt.ylabel('probability')"
   ]
  },
  {
   "cell_type": "code",
   "execution_count": null,
   "metadata": {
    "collapsed": true
   },
   "outputs": [],
   "source": []
  }
 ],
 "metadata": {
  "kernelspec": {
   "display_name": "Python [Root]",
   "language": "python",
   "name": "Python [Root]"
  },
  "language_info": {
   "codemirror_mode": {
    "name": "ipython",
    "version": 3
   },
   "file_extension": ".py",
   "mimetype": "text/x-python",
   "name": "python",
   "nbconvert_exporter": "python",
   "pygments_lexer": "ipython3",
   "version": "3.5.2"
  }
 },
 "nbformat": 4,
 "nbformat_minor": 0
}
